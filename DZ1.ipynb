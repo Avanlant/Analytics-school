{
  "nbformat": 4,
  "nbformat_minor": 0,
  "metadata": {
    "colab": {
      "provenance": [],
      "authorship_tag": "ABX9TyONN1Bwu6ya3QHd+ezEkr3D",
      "include_colab_link": true
    },
    "kernelspec": {
      "name": "python3",
      "display_name": "Python 3"
    },
    "language_info": {
      "name": "python"
    }
  },
  "cells": [
    {
      "cell_type": "markdown",
      "metadata": {
        "id": "view-in-github",
        "colab_type": "text"
      },
      "source": [
        "<a href=\"https://colab.research.google.com/github/Avanlant/Analytics-school/blob/main/DZ1.ipynb\" target=\"_parent\"><img src=\"https://colab.research.google.com/assets/colab-badge.svg\" alt=\"Open In Colab\"/></a>"
      ]
    },
    {
      "cell_type": "markdown",
      "source": [
        "**Переменные**"
      ],
      "metadata": {
        "id": "sp20if--NDg5"
      }
    },
    {
      "cell_type": "code",
      "source": [
        "price = 22  # @param {type: \"slider\", min: -100, max: 100}\n",
        "sup = \"Нет\" # @param [\"Нет\", \"Карамель\", \"Белый шоколад\"] {allow-input: true}\n",
        "nuts = \"Да\" # @param [\"Нет\", \"Да\"] {allow-input: true}\n",
        "amount = 6  # @param {type: \"slider\", min: 1, max: 100}\n"
      ],
      "metadata": {
        "id": "EoCeoTyyfCGL"
      },
      "execution_count": 203,
      "outputs": []
    },
    {
      "cell_type": "markdown",
      "source": [
        "**1. Функция**"
      ],
      "metadata": {
        "id": "9MsqoKhpQ9uQ"
      }
    },
    {
      "cell_type": "code",
      "source": [
        "class choc:\n",
        "  def __init__(self, price:float, sup: str, nuts: bool, amount:int):\n",
        "    self.price = price\n",
        "    self.sup = sup\n",
        "    self.nuts = nuts\n",
        "    self.amount = amount\n",
        ""
      ],
      "metadata": {
        "id": "NGH4XqVoNgW7"
      },
      "execution_count": 204,
      "outputs": []
    },
    {
      "cell_type": "markdown",
      "source": [
        "**2. Ошибка**"
      ],
      "metadata": {
        "id": "QC_is9_DSEBM"
      }
    },
    {
      "cell_type": "code",
      "source": [
        "if price > 0:\n",
        "    print('Цена батончика:', price, 'руб.')\n",
        "else:\n",
        "    raise ValueError('ОШИБКА! Цена батончика должна быть больше нуля!')"
      ],
      "metadata": {
        "colab": {
          "base_uri": "https://localhost:8080/"
        },
        "id": "Ete0VnJ7SDem",
        "outputId": "08be4473-17e6-419f-800d-897060ee3edb"
      },
      "execution_count": 205,
      "outputs": [
        {
          "output_type": "stream",
          "name": "stdout",
          "text": [
            "Цена батончика: 22 руб.\n"
          ]
        }
      ]
    },
    {
      "cell_type": "markdown",
      "source": [
        "**3. show_my_chocolate**"
      ],
      "metadata": {
        "id": "bYk4pVdTSysx"
      }
    },
    {
      "cell_type": "code",
      "source": [
        "show_my_chocolate = choc(price, sup, nuts, amount)\n",
        "if sup == 'Нет':\n",
        "  print('Обычный шоколадный батончик')\n",
        "else:\n",
        "  print('Шоколадный батончик, добавка:', sup)\n"
      ],
      "metadata": {
        "colab": {
          "base_uri": "https://localhost:8080/"
        },
        "id": "ieDw1-9ySyRt",
        "outputId": "9b89b62d-291c-47b2-890a-0f256154fed6"
      },
      "execution_count": 206,
      "outputs": [
        {
          "output_type": "stream",
          "name": "stdout",
          "text": [
            "Обычный шоколадный батончик\n"
          ]
        }
      ]
    },
    {
      "cell_type": "markdown",
      "source": [
        "**4. count_nuts**"
      ],
      "metadata": {
        "id": "Xh_XAULwTF3C"
      }
    },
    {
      "cell_type": "code",
      "execution_count": 207,
      "metadata": {
        "colab": {
          "base_uri": "https://localhost:8080/"
        },
        "id": "j3rbL1awNBzv",
        "outputId": "2aff359a-37a2-46d9-804d-9156641d4a78"
      },
      "outputs": [
        {
          "output_type": "stream",
          "name": "stdout",
          "text": [
            "В шоколадном батончике содержится 6 орехов\n"
          ]
        }
      ],
      "source": [
        "count_nuts = choc(price, sup, nuts, amount)\n",
        "if nuts == 'Нет':\n",
        "  print('Шоколадный батончик без орехов')\n",
        "elif amount==1:\n",
        "  print('В шоколадном батончике содержится', amount, 'орех')\n",
        "elif amount<5:\n",
        "  print('В шоколадном батончике содержится', amount, 'ореха')\n",
        "else:\n",
        "  print('В шоколадном батончике содержится', amount, 'орехов')\n"
      ]
    },
    {
      "cell_type": "markdown",
      "source": [
        "**5. __str__**"
      ],
      "metadata": {
        "id": "LYl_Cq-xaZjH"
      }
    },
    {
      "cell_type": "code",
      "source": [
        "def __str__(self): # Преобразование к строке str(obj)\n",
        "  return f'{self.price} {self.show_my_chocolateup} {self.nuts} {self.count_nuts}'\n",
        "if price > 0:\n",
        "    print('Цена батончика:', price, 'руб.')\n",
        "else:\n",
        "    raise ValueError('ОШИБКА! Цена батончика должна быть больше нуля!')\n",
        "\n"
      ],
      "metadata": {
        "colab": {
          "base_uri": "https://localhost:8080/"
        },
        "id": "VZEds8eMZZLF",
        "outputId": "4f2dc99f-8f25-40c2-e79d-4aff5faabef3"
      },
      "execution_count": 208,
      "outputs": [
        {
          "output_type": "stream",
          "name": "stdout",
          "text": [
            "Цена батончика: 22 руб.\n"
          ]
        }
      ]
    },
    {
      "cell_type": "code",
      "source": [
        "\n"
      ],
      "metadata": {
        "id": "2I5f7nPvfMWN"
      },
      "execution_count": 208,
      "outputs": []
    }
  ]
}