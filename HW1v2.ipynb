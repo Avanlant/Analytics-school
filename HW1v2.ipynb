{
  "nbformat": 4,
  "nbformat_minor": 0,
  "metadata": {
    "colab": {
      "provenance": [],
      "authorship_tag": "ABX9TyOl0ZozYCAvxY+8D11v2aaB",
      "include_colab_link": true
    },
    "kernelspec": {
      "name": "python3",
      "display_name": "Python 3"
    },
    "language_info": {
      "name": "python"
    }
  },
  "cells": [
    {
      "cell_type": "markdown",
      "metadata": {
        "id": "view-in-github",
        "colab_type": "text"
      },
      "source": [
        "<a href=\"https://colab.research.google.com/github/Avanlant/Analytics-school/blob/HW1/HW1v2.ipynb\" target=\"_parent\"><img src=\"https://colab.research.google.com/assets/colab-badge.svg\" alt=\"Open In Colab\"/></a>"
      ]
    },
    {
      "cell_type": "markdown",
      "source": [
        "**Переменные**"
      ],
      "metadata": {
        "id": "sp20if--NDg5"
      }
    },
    {
      "cell_type": "code",
      "source": [
        "price = 22  # @param {type: \"slider\", min: -100, max: 100}\n",
        "sup = \"Нет\" # @param [\"Нет\", \"Карамель\", \"Белый шоколад\"] {allow-input: true}\n",
        "nuts = \"Да\" # @param [\"Нет\", \"Да\"] {allow-input: true}\n",
        "amount = 26  # @param {type: \"slider\", min: 1, max: 100}\n"
      ],
      "metadata": {
        "id": "EoCeoTyyfCGL"
      },
      "execution_count": null,
      "outputs": []
    },
    {
      "cell_type": "markdown",
      "source": [
        "**1. Функция**"
      ],
      "metadata": {
        "id": "9MsqoKhpQ9uQ"
      }
    },
    {
      "cell_type": "code",
      "source": [
        "class choc:\n",
        "  def __init__(self, price:float, sup: str, nuts: bool, amount:int):\n",
        "    self.price = price\n",
        "    self.sup = sup\n",
        "    self.nuts = nuts\n",
        "    self.amount = amount\n"
      ],
      "metadata": {
        "id": "NGH4XqVoNgW7"
      },
      "execution_count": null,
      "outputs": []
    },
    {
      "cell_type": "markdown",
      "source": [
        "**2. Ошибка**"
      ],
      "metadata": {
        "id": "QC_is9_DSEBM"
      }
    },
    {
      "cell_type": "code",
      "source": [
        "if price > 0:\n",
        "    print('Цена батончика:', price, 'руб.')\n",
        "else:\n",
        "    raise ValueError('ОШИБКА! Цена батончика должна быть больше нуля!')"
      ],
      "metadata": {
        "colab": {
          "base_uri": "https://localhost:8080/"
        },
        "id": "Ete0VnJ7SDem",
        "outputId": "99f7c1ca-c057-4647-99f4-f98f4c0fc014"
      },
      "execution_count": null,
      "outputs": [
        {
          "output_type": "stream",
          "name": "stdout",
          "text": [
            "Цена батончика: 22 руб.\n"
          ]
        }
      ]
    },
    {
      "cell_type": "markdown",
      "source": [
        "**3. show_my_chocolate**"
      ],
      "metadata": {
        "id": "bYk4pVdTSysx"
      }
    },
    {
      "cell_type": "code",
      "source": [
        "show_my_chocolate = choc(price, sup, nuts, amount)\n",
        "if sup == 'Нет':\n",
        "  print('Обычный шоколадный батончик')\n",
        "else:\n",
        "  print('Шоколадный батончик, добавка:', sup)\n"
      ],
      "metadata": {
        "colab": {
          "base_uri": "https://localhost:8080/"
        },
        "id": "ieDw1-9ySyRt",
        "outputId": "1c0de79f-e767-4972-a169-7b2d91ef1e42"
      },
      "execution_count": null,
      "outputs": [
        {
          "output_type": "stream",
          "name": "stdout",
          "text": [
            "Обычный шоколадный батончик\n"
          ]
        }
      ]
    },
    {
      "cell_type": "markdown",
      "source": [
        "**4. count_nuts**"
      ],
      "metadata": {
        "id": "Xh_XAULwTF3C"
      }
    },
    {
      "cell_type": "code",
      "execution_count": null,
      "metadata": {
        "colab": {
          "base_uri": "https://localhost:8080/"
        },
        "id": "j3rbL1awNBzv",
        "outputId": "d3d19314-de92-44d8-97c0-64e55be2dbdf"
      },
      "outputs": [
        {
          "output_type": "stream",
          "name": "stdout",
          "text": [
            "В шоколадном батончике содержится 26 орехов\n",
            "**************************\n"
          ]
        }
      ],
      "source": [
        "count_nuts = choc(price, sup, nuts, amount)\n",
        "if nuts == 'Нет':\n",
        "  print('Шоколадный батончик без орехов')\n",
        "elif amount==1:\n",
        "  print('В шоколадном батончике содержится', amount, 'орех')\n",
        "  print('*' * amount)\n",
        "elif amount<5:\n",
        "  print('В шоколадном батончике содержится', amount, 'ореха')\n",
        "  print('*' * amount)\n",
        "else:\n",
        "  print('В шоколадном батончике содержится', amount, 'орехов')\n",
        "  print('*' * amount)\n"
      ]
    },
    {
      "cell_type": "markdown",
      "source": [
        "**5. __str__**"
      ],
      "metadata": {
        "id": "LYl_Cq-xaZjH"
      }
    },
    {
      "cell_type": "code",
      "source": [
        "def __str__(self): # Преобразование к строке str(obj)\n",
        "  return f'{self.price} {self.show_my_chocolateup} {self.nuts} {self.count_nuts}'\n",
        "if price > 0:\n",
        "    print('Цена батончика:', price, 'руб.')\n",
        "else:\n",
        "    raise ValueError('ОШИБКА! Цена батончика должна быть больше нуля!')\n",
        "\n"
      ],
      "metadata": {
        "colab": {
          "base_uri": "https://localhost:8080/"
        },
        "id": "VZEds8eMZZLF",
        "outputId": "4f2dc99f-8f25-40c2-e79d-4aff5faabef3"
      },
      "execution_count": null,
      "outputs": [
        {
          "output_type": "stream",
          "name": "stdout",
          "text": [
            "Цена батончика: 22 руб.\n"
          ]
        }
      ]
    },
    {
      "cell_type": "code",
      "source": [
        "\n"
      ],
      "metadata": {
        "id": "2I5f7nPvfMWN"
      },
      "execution_count": null,
      "outputs": []
    }
  ]
}